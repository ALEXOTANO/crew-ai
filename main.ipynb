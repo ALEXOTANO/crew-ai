{
 "cells": [
  {
   "cell_type": "markdown",
   "metadata": {},
   "source": [
    "# Crew AI"
   ]
  },
  {
   "cell_type": "markdown",
   "metadata": {},
   "source": [
    "### Install Dependencies"
   ]
  },
  {
   "cell_type": "code",
   "execution_count": null,
   "metadata": {},
   "outputs": [],
   "source": [
    "%pip install crewai langchain_community langchain-groq python-dotenv 'crewai[tools]'\n",
    "\n"
   ]
  },
  {
   "cell_type": "markdown",
   "metadata": {},
   "source": [
    "### Imports"
   ]
  },
  {
   "cell_type": "code",
   "execution_count": null,
   "metadata": {},
   "outputs": [],
   "source": [
    "import os\n",
    "import streamlit as st\n",
    "from dotenv import load_dotenv \n",
    "load_dotenv()\n",
    "os.environ[\"SERPER_API_KEY\"] = os.getenv(\"SERPER_API_KEY\")\n",
    "# using openai\n",
    "# os.environ[\"OPENAI_API_KEY\"] = os.getenv(\"OPENAI_API_KEY\")\n",
    "\n",
    "# Using Groq\n",
    "model_name=\"gemma-7b-it\"\n",
    "# model_name=\"llama3-70b-8192\"\n",
    "# model_name=\"llama3-8b-8192\"\n",
    "os.environ[\"OPENAI_API_KEY\"] = os.getenv(\"GROQ_API_KEY\")\n",
    "os.environ[\"OPENAI_MODEL_NAME\"] = model_name\n",
    "os.environ[\"OPENAI_API_BASE\"] = \"https://api.groq.com/openai/v1\"\n",
    "\n",
    "\n",
    "\n",
    "# Groq\n",
    "from langchain_groq import ChatGroq\n",
    "\n",
    "# CrewAI\n",
    "from crewai import Agent, Task, Crew, Process\n",
    "from crewai_tools import SerperDevTool, tool\n"
   ]
  },
  {
   "cell_type": "markdown",
   "metadata": {},
   "source": [
    "### Init Groq"
   ]
  },
  {
   "cell_type": "code",
   "execution_count": null,
   "metadata": {},
   "outputs": [],
   "source": [
    "groq_llm = ChatGroq(\n",
    "            temperature=0, \n",
    "            model_name=\"gemma-7b-it\"\n",
    "            # model_name=\"llama3-70b-8192\"\n",
    "            # model_name=\"llama3-8b-8192\"\n",
    "        )"
   ]
  },
  {
   "cell_type": "markdown",
   "metadata": {},
   "source": [
    "### Tools"
   ]
  },
  {
   "cell_type": "code",
   "execution_count": null,
   "metadata": {},
   "outputs": [],
   "source": [
    "search_tool = SerperDevTool()\n",
    "\n",
    "\n",
    "@tool(\"Spelling Checker\")\n",
    "def spelling_checker(text: str) -> str:\n",
    "    \"\"\"Useful when you finish a article and want to check for spelling mistakes\"\"\"\n",
    "    \n",
    "    return text + \" Checked!!!\"\n"
   ]
  },
  {
   "cell_type": "markdown",
   "metadata": {},
   "source": [
    "### Create the Agents"
   ]
  },
  {
   "cell_type": "code",
   "execution_count": null,
   "metadata": {},
   "outputs": [],
   "source": [
    "# Creating a senior researcher agent with memory and verbose mode\n",
    "researcher = Agent(\n",
    "  role='Researcher',\n",
    "  goal='Research specific topics on the web and provide summarized information',\n",
    "  verbose=True,\n",
    "  memory=False,\n",
    "  backstory=(\n",
    "    \"Equipped with web search specialized in extracting and summarizing the most relevant information from a vast array \"\n",
    "    \"of online resources. Using skills to stay updated on emerging trends and essential data.\"\n",
    "  ),\n",
    "  tools=[search_tool],\n",
    "  allow_delegation=True,\n",
    "  llm=groq_llm\n",
    ")\n",
    "\n",
    "# Creating a writer agent with custom tools and delegation capability\n",
    "writer = Agent(\n",
    "  role='Writer',\n",
    "  goal='Create engaging and informative blog posts on assigned topics',\n",
    "  verbose=True,\n",
    "  memory=False,\n",
    "  backstory=(\n",
    "        \"As a dedicated Blog Writer within a dynamic digital content team, you excel in transforming \"\n",
    "        \"complex topics into readable, engaging blog posts that capture readers' interest and convey information \"\n",
    "        \"effectively. Specializing in creating content that is not only informative but also captivates the audience, \"\n",
    "        \"using a rich understanding of language and audience engagement without the need for external tools.\"\n",
    "    ),\n",
    "  tools=[search_tool, spelling_checker],\n",
    "  allow_delegation=False,\n",
    "  llm=groq_llm\n",
    ")\n",
    "\n"
   ]
  },
  {
   "cell_type": "markdown",
   "metadata": {},
   "source": [
    "### Create the Tasks"
   ]
  },
  {
   "cell_type": "code",
   "execution_count": null,
   "metadata": {},
   "outputs": [],
   "source": [
    "# Research task\n",
    "research_task = Task(\n",
    "  description=(\n",
    "    \"Identify the next big trend in {topic}.\"\n",
    "    \"Focus on identifying pros and cons and the overall narrative.\"\n",
    "    \"Your final report should clearly articulate the key points,\"\n",
    "    \"its market opportunities, and potential risks.\"\n",
    "  ),\n",
    "  expected_output='A comprehensive 3 paragraphs long report on the latest {topic} trends.',\n",
    "  tools=[search_tool],\n",
    "  agent=researcher,\n",
    "  async_execution=False,\n",
    "  output_file='output/research-output.md'\n",
    ")\n",
    "\n",
    "# Writing task with language model configuration\n",
    "write_task = Task(\n",
    "  description=(\n",
    "    \"Compose an insightful article on {topic}.\"\n",
    "    \"Focus on the latest trends and how it's impacting the industry.\"\n",
    "    \"This article should be easy to understand, engaging, and positive.\"\n",
    "  ),\n",
    "  expected_output='A 6 paragraph article on {topic} advancements formatted as markdown.',\n",
    "  agent=writer,\n",
    "  tools=[search_tool, spelling_checker],\n",
    "  async_execution=False,\n",
    "  output_file='output/blog-post.md',\n",
    ")\n",
    "write_tweet = Task(\n",
    "  description=(\n",
    "   \"Read the provided article about {topic} and use your summarization skills to craft a tweet that\"\n",
    "    \" captures the article's essence in a compelling way. Add hashtags and mentions as needed.\"\n",
    "  ),\n",
    "  expected_output='A tweet-length summary of the article.',\n",
    "  agent=writer,\n",
    "  tools=[],\n",
    "  async_execution=False,\n",
    "  output_file='output/tweet.md',\n",
    ")"
   ]
  },
  {
   "cell_type": "markdown",
   "metadata": {},
   "source": [
    "### Create the Crew"
   ]
  },
  {
   "cell_type": "code",
   "execution_count": null,
   "metadata": {},
   "outputs": [],
   "source": [
    "# Forming the tech-focused crew with some enhanced configurations\n",
    "crew = Crew(\n",
    "  agents=[researcher, writer],\n",
    "  tasks=[research_task, write_task],\n",
    "  process=Process.sequential,  # Optional: Sequential task execution is default\n",
    "  memory=False,\n",
    "  cache=True,\n",
    "  max_rpm=29, \n",
    "  verbose=2,\n",
    ")"
   ]
  },
  {
   "cell_type": "markdown",
   "metadata": {},
   "source": [
    "### Initiate the work"
   ]
  },
  {
   "cell_type": "code",
   "execution_count": null,
   "metadata": {},
   "outputs": [],
   "source": [
    "result = crew.kickoff(inputs={'topic': 'Healthtech security'})\n",
    "print(\"--------------------\")\n",
    "print(\"--------------------\")\n",
    "print(result)"
   ]
  },
  {
   "cell_type": "code",
   "execution_count": null,
   "metadata": {},
   "outputs": [],
   "source": []
  }
 ],
 "metadata": {
  "kernelspec": {
   "display_name": "base",
   "language": "python",
   "name": "python3"
  },
  "language_info": {
   "codemirror_mode": {
    "name": "ipython",
    "version": 3
   },
   "file_extension": ".py",
   "mimetype": "text/x-python",
   "name": "python",
   "nbconvert_exporter": "python",
   "pygments_lexer": "ipython3",
   "version": "3.10.13"
  }
 },
 "nbformat": 4,
 "nbformat_minor": 2
}
